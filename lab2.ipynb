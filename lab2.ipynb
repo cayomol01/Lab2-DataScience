{
 "cells": [
  {
   "cell_type": "code",
   "execution_count": 1,
   "metadata": {},
   "outputs": [],
   "source": [
    "import pickle"
   ]
  },
  {
   "cell_type": "code",
   "execution_count": null,
   "metadata": {},
   "outputs": [],
   "source": [
    "\n",
    "with open('entrenamiento.p', 'rb') as file:\n",
    "    training_data = pickle.load(file)\n",
    "    \n",
    "\n",
    "with open('prueba.p', 'rb') as file:\n",
    "    test_data = pickle.load(file)\n",
    "    \n",
    "\n",
    "with open('validacion.p', 'rb') as file:\n",
    "    validation_data = pickle.load(file)\n"
   ]
  }
 ],
 "metadata": {
  "kernelspec": {
   "display_name": "Python 3",
   "language": "python",
   "name": "python3"
  },
  "language_info": {
   "codemirror_mode": {
    "name": "ipython",
    "version": 3
   },
   "file_extension": ".py",
   "mimetype": "text/x-python",
   "name": "python",
   "nbconvert_exporter": "python",
   "pygments_lexer": "ipython3",
   "version": "3.10.0"
  },
  "orig_nbformat": 4
 },
 "nbformat": 4,
 "nbformat_minor": 2
}
